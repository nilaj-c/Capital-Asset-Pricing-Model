{
 "cells": [
  {
   "cell_type": "markdown",
   "metadata": {},
   "source": [
    "# Efficient Frontier\n",
    "\n",
    "Here we will carry out the Mean Variance optimization for a portfolio containing two risky assets. First we will find the return and risk of two stocks from their price data. Then we plot the return and risk of arbitrarily weighted portfolios and identify the efficient frontier.\n",
    "\n",
    "The two assets we choose are Facebook and Proctor&Gamble, one tech stock and one staples stock. These should have a low correlation.\n",
    "\n",
    "### Loading the necessary packages"
   ]
  },
  {
   "cell_type": "code",
   "execution_count": 1,
   "metadata": {},
   "outputs": [],
   "source": [
    "import numpy as np\n",
    "import pandas as pd\n",
    "from pandas_datareader import data as wb\n",
    "import matplotlib.pyplot as plt"
   ]
  },
  {
   "cell_type": "markdown",
   "metadata": {},
   "source": [
    "### Obtaining the price data from Yahoo finance"
   ]
  },
  {
   "cell_type": "code",
   "execution_count": 5,
   "metadata": {},
   "outputs": [
    {
     "data": {
      "text/html": [
       "<div>\n",
       "<style scoped>\n",
       "    .dataframe tbody tr th:only-of-type {\n",
       "        vertical-align: middle;\n",
       "    }\n",
       "\n",
       "    .dataframe tbody tr th {\n",
       "        vertical-align: top;\n",
       "    }\n",
       "\n",
       "    .dataframe thead th {\n",
       "        text-align: right;\n",
       "    }\n",
       "</style>\n",
       "<table border=\"1\" class=\"dataframe\">\n",
       "  <thead>\n",
       "    <tr style=\"text-align: right;\">\n",
       "      <th></th>\n",
       "      <th>FB</th>\n",
       "      <th>PG</th>\n",
       "    </tr>\n",
       "    <tr>\n",
       "      <th>Date</th>\n",
       "      <th></th>\n",
       "      <th></th>\n",
       "    </tr>\n",
       "  </thead>\n",
       "  <tbody>\n",
       "    <tr>\n",
       "      <th>2019-03-13</th>\n",
       "      <td>173.369995</td>\n",
       "      <td>101.180000</td>\n",
       "    </tr>\n",
       "    <tr>\n",
       "      <th>2019-03-14</th>\n",
       "      <td>170.169998</td>\n",
       "      <td>101.320000</td>\n",
       "    </tr>\n",
       "    <tr>\n",
       "      <th>2019-03-15</th>\n",
       "      <td>165.979996</td>\n",
       "      <td>102.440002</td>\n",
       "    </tr>\n",
       "    <tr>\n",
       "      <th>2019-03-18</th>\n",
       "      <td>160.470001</td>\n",
       "      <td>101.510002</td>\n",
       "    </tr>\n",
       "    <tr>\n",
       "      <th>2019-03-19</th>\n",
       "      <td>161.570007</td>\n",
       "      <td>101.900002</td>\n",
       "    </tr>\n",
       "  </tbody>\n",
       "</table>\n",
       "</div>"
      ],
      "text/plain": [
       "                    FB          PG\n",
       "Date                              \n",
       "2019-03-13  173.369995  101.180000\n",
       "2019-03-14  170.169998  101.320000\n",
       "2019-03-15  165.979996  102.440002\n",
       "2019-03-18  160.470001  101.510002\n",
       "2019-03-19  161.570007  101.900002"
      ]
     },
     "execution_count": 5,
     "metadata": {},
     "output_type": "execute_result"
    }
   ],
   "source": [
    "asset_list = ['FB', 'PG']\n",
    "\n",
    "price_data = pd.DataFrame()\n",
    "\n",
    "for asset in asset_list:\n",
    "    price_data[asset] = wb.DataReader(asset, data_source='yahoo', start='2014-01-01')['Adj Close']\n",
    "\n",
    "price_data.tail()"
   ]
  },
  {
   "cell_type": "markdown",
   "metadata": {},
   "source": [
    "### Obtaining the Return and Risk of each stock from the logarithm returns"
   ]
  },
  {
   "cell_type": "code",
   "execution_count": 18,
   "metadata": {},
   "outputs": [
    {
     "name": "stdout",
     "output_type": "stream",
     "text": [
      "The annual return of Facebook is 20.666 %\n",
      "The annual return of PG is 7.712 %\n",
      "The annual volatility of Facebook is 30.173 %\n",
      "The annual volatility of PG is 14.725 %\n",
      "The Covariance matrix is:\n",
      "          FB        PG\n",
      "FB  0.091039  0.008256\n",
      "PG  0.008256  0.021684\n"
     ]
    }
   ],
   "source": [
    "return_data = np.log(price_data/price_data.shift(1))\n",
    "\n",
    "return_data.head()\n",
    "\n",
    "fb_return = return_data['FB'].mean()*250\n",
    "pg_return = return_data['PG'].mean()*250\n",
    "\n",
    "print('The annual return of Facebook is {0:.3f} %'.format(fb_return*100))\n",
    "print('The annual return of PG is {0:.3f} %'.format(pg_return*100))\n",
    "\n",
    "fb_vol = np.sqrt(return_data['FB'].var()*250)\n",
    "pg_vol = np.sqrt(return_data['PG'].var()*250)\n",
    "\n",
    "print('The annual volatility of Facebook is {0:.3f} %'.format(fb_vol*100))\n",
    "print('The annual volatility of PG is {0:.3f} %'.format(pg_vol*100))\n",
    "\n",
    "print('The Covariance matrix is:')\n",
    "print(return_data.cov()*250)"
   ]
  },
  {
   "cell_type": "markdown",
   "metadata": {},
   "source": [
    "### Obtaining the return and risk of a sample portfolio\n",
    "\n",
    "Here we obtain the return and risk of a sample portfolio containing these two stocks. Later in this notebook we would repeat the same process for 1000s of such portfolios to generate the efficient frontier."
   ]
  },
  {
   "cell_type": "code",
   "execution_count": 19,
   "metadata": {},
   "outputs": [
    {
     "name": "stdout",
     "output_type": "stream",
     "text": [
      "The Number of Assets is 2\n",
      "The sum of the weights is 1.0\n",
      "The annual return of the portfolio is 14.486 %\n",
      "The annual volatility of the portfolio is 18.426 %\n"
     ]
    }
   ],
   "source": [
    "num_assets = len(asset_list)\n",
    "print('The Number of Assets is {}'.format(num_assets))\n",
    "\n",
    "weights = np.random.random(num_assets)\n",
    "weights /= sum(weights)\n",
    "print('The sum of the weights is {}'.format(sum(weights)))\n",
    "\n",
    "pf_1_return = np.sum(weights * return_data.mean()) * 250\n",
    "print('The annual return of the portfolio is {0:.3f} %'.format(pf_1_return*100))\n",
    "\n",
    "pf_1_vol = np.sqrt(np.dot(weights.T,np.dot(return_data.cov() * 250, weights)))\n",
    "print('The annual volatility of the portfolio is {0:.3f} %'.format(pf_1_vol*100))\n"
   ]
  },
  {
   "cell_type": "markdown",
   "metadata": {},
   "source": [
    "### Obtaining the return and risk of random portfolios and plotting the efficient frontier\n",
    "\n",
    "Here we obtain the return and volatility of 1000s of sample portfolios containing these two stocks randomly weighted. For each portfolio we calculate the return and volatility which we then append to a list. We then convert the lists into a Pandas dataframe and plot the return and risk of each portfolio to visualize the efficient frontier.\n",
    "\n",
    "Note: These are long only portfolios. This is not always an adequate assumption but is generally true for retail investors"
   ]
  },
  {
   "cell_type": "code",
   "execution_count": 52,
   "metadata": {},
   "outputs": [],
   "source": [
    "iterations = 1000\n",
    "pf_returns = []\n",
    "pf_vol = []"
   ]
  },
  {
   "cell_type": "code",
   "execution_count": 53,
   "metadata": {},
   "outputs": [],
   "source": [
    "for _ in range(iterations):\n",
    "    weights = np.random.random(len(asset_list))\n",
    "    weights /= sum(weights)\n",
    "    pf_returns.append((np.sum(weights * return_data.mean()) * 250)*100)\n",
    "    pf_vol.append((np.sqrt(np.dot(weights.T,np.dot(return_data.cov() * 250, weights))))*100)"
   ]
  },
  {
   "cell_type": "code",
   "execution_count": 54,
   "metadata": {},
   "outputs": [
    {
     "data": {
      "text/html": [
       "<div>\n",
       "<style scoped>\n",
       "    .dataframe tbody tr th:only-of-type {\n",
       "        vertical-align: middle;\n",
       "    }\n",
       "\n",
       "    .dataframe tbody tr th {\n",
       "        vertical-align: top;\n",
       "    }\n",
       "\n",
       "    .dataframe thead th {\n",
       "        text-align: right;\n",
       "    }\n",
       "</style>\n",
       "<table border=\"1\" class=\"dataframe\">\n",
       "  <thead>\n",
       "    <tr style=\"text-align: right;\">\n",
       "      <th></th>\n",
       "      <th>Return</th>\n",
       "      <th>Volatility</th>\n",
       "    </tr>\n",
       "  </thead>\n",
       "  <tbody>\n",
       "    <tr>\n",
       "      <th>0</th>\n",
       "      <td>14.531022</td>\n",
       "      <td>18.495008</td>\n",
       "    </tr>\n",
       "    <tr>\n",
       "      <th>1</th>\n",
       "      <td>13.991599</td>\n",
       "      <td>17.684378</td>\n",
       "    </tr>\n",
       "    <tr>\n",
       "      <th>2</th>\n",
       "      <td>14.045250</td>\n",
       "      <td>17.762454</td>\n",
       "    </tr>\n",
       "    <tr>\n",
       "      <th>3</th>\n",
       "      <td>16.287400</td>\n",
       "      <td>21.463424</td>\n",
       "    </tr>\n",
       "    <tr>\n",
       "      <th>4</th>\n",
       "      <td>10.961244</td>\n",
       "      <td>14.491535</td>\n",
       "    </tr>\n",
       "  </tbody>\n",
       "</table>\n",
       "</div>"
      ],
      "text/plain": [
       "      Return  Volatility\n",
       "0  14.531022   18.495008\n",
       "1  13.991599   17.684378\n",
       "2  14.045250   17.762454\n",
       "3  16.287400   21.463424\n",
       "4  10.961244   14.491535"
      ]
     },
     "execution_count": 54,
     "metadata": {},
     "output_type": "execute_result"
    }
   ],
   "source": [
    "portfolios = pd.DataFrame({'Return': pf_returns, 'Volatility': pf_vol})\n",
    "portfolios.head()"
   ]
  },
  {
   "cell_type": "code",
   "execution_count": 57,
   "metadata": {},
   "outputs": [
    {
     "data": {
      "image/png": "[encoded data removed]",
      "text/plain": [
       "<Figure size 720x432 with 1 Axes>"
      ]
     },
     "metadata": {},
     "output_type": "display_data"
    }
   ],
   "source": [
    "portfolios.plot(x='Volatility', y='Return', kind='scatter', figsize=(10, 6));\n",
    "plt.xlabel('Expected Volatility (%)', size = 18)\n",
    "plt.ylabel('Expected Return (%)', size = 18)\n",
    "plt.tick_params(labelsize=14)"
   ]
  },
  {
   "cell_type": "markdown",
   "metadata": {},
   "source": [
    "The Efficient Frontier is the upper section of this plot."
   ]
  }
 ],
 "metadata": {
  "kernelspec": {
   "display_name": "Python 3",
   "language": "python",
   "name": "python3"
  },
  "language_info": {
   "codemirror_mode": {
    "name": "ipython",
    "version": 3
   },
   "file_extension": ".py",
   "mimetype": "text/x-python",
   "name": "python",
   "nbconvert_exporter": "python",
   "pygments_lexer": "ipython3",
   "version": "3.6.7"
  }
 },
 "nbformat": 4,
 "nbformat_minor": 2
}
