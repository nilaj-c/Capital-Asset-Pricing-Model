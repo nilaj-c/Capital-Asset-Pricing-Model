{
 "cells": [
  {
   "cell_type": "markdown",
   "metadata": {},
   "source": [
    "# Calculating the $\\beta$ of a security using linear regression\n",
    "\n",
    "In this code, we calculate the $\\beta$ of a security. The price data is downloaded from Yahoo finance and the monthly returns are calculated. We choose the Microsoft stock and calculate its correlation with the S&P 500. \n",
    "\n",
    "The Beta of an asset is a measure of the sensitivity of its returns relative to a market benchmark (usually a market index). \n",
    "\n",
    "The formula is: $\\beta = \\frac{cov(r_s r_b)}{var(r_b)}$\n",
    "\n",
    "$r_s$: return of the stock\n",
    "\n",
    "$r_b$: return of the benchmark"
   ]
  },
  {
   "cell_type": "code",
   "execution_count": 9,
   "metadata": {},
   "outputs": [],
   "source": [
    "import numpy as np\n",
    "import pandas as pd\n",
    "from pandas_datareader import data as wb\n",
    "import matplotlib.pyplot as plt\n",
    "import statsmodels.api as sm"
   ]
  },
  {
   "cell_type": "code",
   "execution_count": 16,
   "metadata": {},
   "outputs": [],
   "source": [
    "price_data = pd.DataFrame()\n",
    "asset_list = ['MSFT','^GSPC']\n",
    "\n",
    "for asset in asset_list:\n",
    "    price_data[asset] = wb.get_data_yahoo(asset, start='2016-01-01', end='2019-01-01', interval='m')['Adj Close']\n",
    "    "
   ]
  },
  {
   "cell_type": "markdown",
   "metadata": {},
   "source": [
    "We calculate the log-returns and remove the NaN value in the top row.  "
   ]
  },
  {
   "cell_type": "code",
   "execution_count": 17,
   "metadata": {},
   "outputs": [],
   "source": [
    "return_data = np.log(1.0 + price_data.pct_change())\n",
    "return_data = return_data.dropna(axis=0)"
   ]
  },
  {
   "cell_type": "code",
   "execution_count": 18,
   "metadata": {},
   "outputs": [
    {
     "data": {
      "text/html": [
       "<div>\n",
       "<style scoped>\n",
       "    .dataframe tbody tr th:only-of-type {\n",
       "        vertical-align: middle;\n",
       "    }\n",
       "\n",
       "    .dataframe tbody tr th {\n",
       "        vertical-align: top;\n",
       "    }\n",
       "\n",
       "    .dataframe thead th {\n",
       "        text-align: right;\n",
       "    }\n",
       "</style>\n",
       "<table border=\"1\" class=\"dataframe\">\n",
       "  <thead>\n",
       "    <tr style=\"text-align: right;\">\n",
       "      <th></th>\n",
       "      <th>MSFT</th>\n",
       "      <th>^GSPC</th>\n",
       "    </tr>\n",
       "    <tr>\n",
       "      <th>Date</th>\n",
       "      <th></th>\n",
       "      <th></th>\n",
       "    </tr>\n",
       "  </thead>\n",
       "  <tbody>\n",
       "    <tr>\n",
       "      <th>2016-02-01</th>\n",
       "      <td>-0.079498</td>\n",
       "      <td>-0.004137</td>\n",
       "    </tr>\n",
       "    <tr>\n",
       "      <th>2016-03-01</th>\n",
       "      <td>0.089191</td>\n",
       "      <td>0.063905</td>\n",
       "    </tr>\n",
       "    <tr>\n",
       "      <th>2016-04-01</th>\n",
       "      <td>-0.102087</td>\n",
       "      <td>0.002696</td>\n",
       "    </tr>\n",
       "    <tr>\n",
       "      <th>2016-05-01</th>\n",
       "      <td>0.060872</td>\n",
       "      <td>0.015208</td>\n",
       "    </tr>\n",
       "    <tr>\n",
       "      <th>2016-06-01</th>\n",
       "      <td>-0.028168</td>\n",
       "      <td>0.000911</td>\n",
       "    </tr>\n",
       "  </tbody>\n",
       "</table>\n",
       "</div>"
      ],
      "text/plain": [
       "                MSFT     ^GSPC\n",
       "Date                          \n",
       "2016-02-01 -0.079498 -0.004137\n",
       "2016-03-01  0.089191  0.063905\n",
       "2016-04-01 -0.102087  0.002696\n",
       "2016-05-01  0.060872  0.015208\n",
       "2016-06-01 -0.028168  0.000911"
      ]
     },
     "execution_count": 18,
     "metadata": {},
     "output_type": "execute_result"
    }
   ],
   "source": [
    "return_data.head()"
   ]
  },
  {
   "cell_type": "markdown",
   "metadata": {},
   "source": [
    "Calculating the beta using linear regression."
   ]
  },
  {
   "cell_type": "code",
   "execution_count": 19,
   "metadata": {},
   "outputs": [],
   "source": [
    "X = return_data['^GSPC']\n",
    "y = return_data['MSFT']\n",
    "\n",
    "X1 = sm.add_constant(X)\n",
    "\n",
    "model = sm.OLS(y, X1)"
   ]
  },
  {
   "cell_type": "markdown",
   "metadata": {},
   "source": [
    "### fit model and print results"
   ]
  },
  {
   "cell_type": "code",
   "execution_count": 20,
   "metadata": {},
   "outputs": [
    {
     "name": "stdout",
     "output_type": "stream",
     "text": [
      "                            OLS Regression Results                            \n",
      "==============================================================================\n",
      "Dep. Variable:                   MSFT   R-squared:                       0.420\n",
      "Model:                            OLS   Adj. R-squared:                  0.403\n",
      "Method:                 Least Squares   F-statistic:                     24.61\n",
      "Date:                Mon, 25 Mar 2019   Prob (F-statistic):           1.93e-05\n",
      "Time:                        14:35:27   Log-Likelihood:                 66.853\n",
      "No. Observations:                  36   AIC:                            -129.7\n",
      "Df Residuals:                      34   BIC:                            -126.5\n",
      "Df Model:                           1                                         \n",
      "Covariance Type:            nonrobust                                         \n",
      "==============================================================================\n",
      "                 coef    std err          t      P>|t|      [0.025      0.975]\n",
      "------------------------------------------------------------------------------\n",
      "const          0.0104      0.007      1.538      0.133      -0.003       0.024\n",
      "^GSPC          1.0019      0.202      4.961      0.000       0.591       1.412\n",
      "==============================================================================\n",
      "Omnibus:                        8.628   Durbin-Watson:                   2.473\n",
      "Prob(Omnibus):                  0.013   Jarque-Bera (JB):                7.459\n",
      "Skew:                          -0.896   Prob(JB):                       0.0240\n",
      "Kurtosis:                       4.327   Cond. No.                         31.2\n",
      "==============================================================================\n",
      "\n",
      "Warnings:\n",
      "[1] Standard Errors assume that the covariance matrix of the errors is correctly specified.\n"
     ]
    }
   ],
   "source": [
    "results = model.fit()\n",
    "print(results.summary())"
   ]
  },
  {
   "cell_type": "markdown",
   "metadata": {},
   "source": [
    "The $\\beta$ value calculated here is 1.0019. The value quoted in Yahoo finance is 1.02 which is close to our calculation."
   ]
  },
  {
   "cell_type": "code",
   "execution_count": 28,
   "metadata": {},
   "outputs": [
    {
     "data": {
      "text/plain": [
       "<matplotlib.legend.Legend at 0x1c2220d470>"
      ]
     },
     "execution_count": 28,
     "metadata": {},
     "output_type": "execute_result"
    },
    {
     "data": {
      "image/png": "[encoded data removed]",
      "text/plain": [
       "<Figure size 720x432 with 1 Axes>"
      ]
     },
     "metadata": {
      "needs_background": "light"
     },
     "output_type": "display_data"
    }
   ],
   "source": [
    "return_data.plot(x='^GSPC', y='MSFT', kind='scatter', figsize=(10, 6));\n",
    "plt.plot(X, 1.0019*X + 0.0104, color = 'r', label = 'y = 1.0019x + 0.0104')\n",
    "plt.xlabel('S&P 500 returns', size = 18)\n",
    "plt.ylabel('Microsoft returns', size = 18)\n",
    "plt.tick_params(labelsize=14)\n",
    "plt.legend(fontsize = 18)\n"
   ]
  }
 ],
 "metadata": {
  "kernelspec": {
   "display_name": "Python 3",
   "language": "python",
   "name": "python3"
  },
  "language_info": {
   "codemirror_mode": {
    "name": "ipython",
    "version": 3
   },
   "file_extension": ".py",
   "mimetype": "text/x-python",
   "name": "python",
   "nbconvert_exporter": "python",
   "pygments_lexer": "ipython3",
   "version": "3.6.7"
  }
 },
 "nbformat": 4,
 "nbformat_minor": 2
}
